{
  "nbformat": 4,
  "nbformat_minor": 0,
  "metadata": {
    "colab": {
      "provenance": [],
      "authorship_tag": "ABX9TyNBuGuCLuXo+XAbAPBKTEfM",
      "include_colab_link": true
    },
    "kernelspec": {
      "name": "python3",
      "display_name": "Python 3"
    },
    "language_info": {
      "name": "python"
    }
  },
  "cells": [
    {
      "cell_type": "markdown",
      "metadata": {
        "id": "view-in-github",
        "colab_type": "text"
      },
      "source": [
        "<a href=\"https://colab.research.google.com/github/bhavna2608/Digit-Recognition/blob/main/Digit_Recognition.ipynb\" target=\"_parent\"><img src=\"https://colab.research.google.com/assets/colab-badge.svg\" alt=\"Open In Colab\"/></a>"
      ]
    },
    {
      "cell_type": "code",
      "execution_count": null,
      "metadata": {
        "id": "9LEn_Ggm5BoS"
      },
      "outputs": [],
      "source": [
        "import numpy as np\n",
        "import pandas as pd\n",
        "from matplotlib import pyplot as plt\n",
        "from keras.models import Sequential\n",
        "from keras.layers import Conv2D, AveragePooling2D, Dense, Dropout, Flatten\n",
        "from keras.callbacks import ModelCheckpoint, EarlyStopping, ReduceLROnPlateau\n",
        "from sklearn.preprocessing import OneHotEncoder"
      ]
    },
    {
      "cell_type": "code",
      "source": [
        "test_df = pd.read_csv('/content/test.csv')\n",
        "train_df = pd.read_csv('/content/train.csv')"
      ],
      "metadata": {
        "id": "xtF-w_w56D_c"
      },
      "execution_count": null,
      "outputs": []
    },
    {
      "cell_type": "code",
      "source": [
        "y_train = train_df[\"label\"]\n",
        "x_train = train_df.drop(\"label\", axis=1)"
      ],
      "metadata": {
        "id": "AfJM2Xsh6GaB"
      },
      "execution_count": null,
      "outputs": []
    },
    {
      "cell_type": "code",
      "source": [
        "x_train = x_train.values.reshape(-1, 28, 28, 1).astype(\"float32\") / 255.0\n",
        "x_test = test_df.values.reshape(-1, 28, 28, 1).astype(\"float32\") / 255.0\n",
        "y_train = np.array(y_train)"
      ],
      "metadata": {
        "id": "FnpCPbaG6IZH"
      },
      "execution_count": null,
      "outputs": []
    },
    {
      "cell_type": "code",
      "source": [
        "_, ax = plt.subplots(4, 4, figsize=(10, 5))\n",
        "i = 0\n",
        "for image in x_train[:16]:\n",
        "    label = y_train[i]\n",
        "    ax[i // 4, i % 4].imshow(image[:, :, 0], cmap=\"Blues\")\n",
        "    ax[i // 4, i % 4].set_title(label)\n",
        "    ax[i // 4, i % 4].axis(\"off\")\n",
        "    i += 1\n",
        "plt.show()"
      ],
      "metadata": {
        "id": "ZwWQUKBL6Kgr"
      },
      "execution_count": null,
      "outputs": []
    },
    {
      "cell_type": "code",
      "source": [
        "enc = OneHotEncoder()\n",
        "y_train=enc.fit_transform(y_train.reshape(y_train.shape[0],1)).toarray().astype(int)\n",
        "\n",
        "y_train[0]"
      ],
      "metadata": {
        "id": "6ZC5HAD56M5-"
      },
      "execution_count": null,
      "outputs": []
    },
    {
      "cell_type": "code",
      "source": [
        "def Build_Model() -> Sequential:\n",
        "    model = Sequential()\n",
        "\n",
        "    model.add(Conv2D(32, (3, 3), activation='relu', input_shape=(28, 28, 1), padding='same'))\n",
        "    model.add(AveragePooling2D((2, 2), padding='same'))\n",
        "\n",
        "    model.add(Conv2D(64, (3, 3), activation='relu', padding='same'))\n",
        "    model.add(AveragePooling2D((2, 2), padding='same'))\n",
        "\n",
        "    model.add(Conv2D(128, (3, 3), activation='relu', padding='same'))\n",
        "    model.add(AveragePooling2D((2, 2), padding='same'))\n",
        "\n",
        "    model.add(Flatten())\n",
        "\n",
        "    model.add(Dense(256, activation='relu'))\n",
        "    model.add(Dropout(0.25))\n",
        "\n",
        "    model.add(Dense(256, activation='relu'))\n",
        "    model.add(Dropout(0.25))\n",
        "\n",
        "    model.add(Dense(10, activation='softmax'))\n",
        "\n",
        "    return model"
      ],
      "metadata": {
        "id": "RvuGEoZu6PNV"
      },
      "execution_count": null,
      "outputs": []
    },
    {
      "cell_type": "code",
      "source": [
        "model = Build_Model()\n",
        "model.summary()"
      ],
      "metadata": {
        "id": "s1bxYdBu6RX4"
      },
      "execution_count": null,
      "outputs": []
    },
    {
      "cell_type": "code",
      "source": [
        "model.compile(optimizer='adam', loss='categorical_crossentropy', metrics=['accuracy', 'AUC'])\n",
        "\n",
        "checkpoint = ModelCheckpoint(\"digit_weights.h5\", monitor='loss', verbose=1, save_best_only=True, mode='min', save_weights_only = True)\n",
        "\n",
        "reduceLROnPlat = ReduceLROnPlateau(monitor='loss', factor=0.8, patience=2, verbose=1, mode='auto', min_delta=0.0001, cooldown=5)\n",
        "\n",
        "early_stop = EarlyStopping(monitor='loss', mode='min', patience=20, restore_best_weights=True)"
      ],
      "metadata": {
        "id": "cqYbQXMD6TSD"
      },
      "execution_count": null,
      "outputs": []
    },
    {
      "cell_type": "code",
      "source": [
        "history = model.fit(\n",
        "    x_train, y_train,\n",
        "    epochs=1000,\n",
        "    batch_size=32,\n",
        "    callbacks=[checkpoint, early_stop, reduceLROnPlat]\n",
        ")"
      ],
      "metadata": {
        "id": "zTlnIMH96VgP"
      },
      "execution_count": null,
      "outputs": []
    },
    {
      "cell_type": "code",
      "source": [
        "acc = history.history['accuracy']\n",
        "loss = history.history['loss']\n",
        "\n",
        "plt.figure(figsize=(10, 16))\n",
        "plt.rcParams['figure.figsize'] = [16, 9]\n",
        "plt.rcParams['font.size'] = 14\n",
        "plt.rcParams['axes.grid'] = True\n",
        "plt.rcParams['figure.facecolor'] = 'white'\n",
        "plt.subplot(2, 1, 1)\n",
        "plt.plot(acc, label='Accuracy')\n",
        "plt.legend(loc='lower right')\n",
        "plt.ylabel('Accuracy')\n",
        "plt.title(f'Accuracy: {str(acc[-1])}')\n",
        "plt.tight_layout()\n",
        "plt.show()"
      ],
      "metadata": {
        "id": "nZ2Nm55G6YTM"
      },
      "execution_count": null,
      "outputs": []
    },
    {
      "cell_type": "code",
      "source": [
        "plt.subplot(2, 1, 2)\n",
        "plt.plot(loss, label='Loss')\n",
        "plt.legend(loc='upper right')\n",
        "plt.ylabel('Cross Entropy')\n",
        "plt.title(f'Loss: {str(loss[-1])}')\n",
        "plt.xlabel('epoch')\n",
        "plt.tight_layout()\n",
        "plt.show()"
      ],
      "metadata": {
        "id": "UMvi0fQM6dWb"
      },
      "execution_count": null,
      "outputs": []
    },
    {
      "cell_type": "code",
      "source": [
        "pred = model.predict(x_test)\n",
        "pred = np.argmax(pred,axis=1)"
      ],
      "metadata": {
        "id": "Q3Z3S_SU6iR2"
      },
      "execution_count": null,
      "outputs": []
    },
    {
      "cell_type": "code",
      "source": [
        "_, ax = plt.subplots(4, 4, figsize=(10, 5))\n",
        "i = 0\n",
        "for image in x_test[:50]:\n",
        "    label = pred[i]\n",
        "    ax[i // 5, i % 5].imshow(image[:, :, 0], cmap=\"Blues\")\n",
        "    ax[i // 5, i % 5].set_title(label)\n",
        "    ax[i // 5, i % 5].axis(\"off\")\n",
        "    i += 1\n",
        "plt.show()"
      ],
      "metadata": {
        "id": "jvsyvZ6f6kf9"
      },
      "execution_count": null,
      "outputs": []
    }
  ]
}